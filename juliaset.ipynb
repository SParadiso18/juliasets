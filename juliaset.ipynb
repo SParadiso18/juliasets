{
 "cells": [
  {
   "cell_type": "markdown",
   "metadata": {
    "collapsed": false
   },
   "source": [
    "# Julia Sets\n",
    "\n",
    "### Sean Paradiso"
   ]
  },
  {
   "cell_type": "code",
   "execution_count": 1,
   "metadata": {
    "collapsed": false
   },
   "outputs": [],
   "source": [
    "import math \n",
    "\n",
    "class JuliaSet(object):\n",
    "    def __init__(self, c, n = 100):\n",
    "        self.c = c\n",
    "        self.n = n\n",
    "        self._d = 0.001\n",
    "        self._complexplane = []\n",
    "        self.set = []\n",
    "        \n",
    "    def juliamap(self, z):\n",
    "        return (z ** 2) + self.c\n",
    "    \n",
    "    def iterate(self, z):\n",
    "        m = 0\n",
    "        while True:\n",
    "            z = self.juliamap(z)\n",
    "            m += 1\n",
    "            if  abs(z) > 2:\n",
    "                return m\n",
    "            if m >= self.n:\n",
    "                return 0\n",
    "       \n",
    "    def makeplane(self):\n",
    "        plane = [i * self._d for i in range(int(-2 / self._d), int(2 / self._d), 1)]\n",
    "        self._complexplane=[complex(x,y) for x in plane for y in plane]\n",
    "\n",
    "    def set_spacing(self, d):\n",
    "        self._d = d\n",
    "        self.makeplane()\n",
    "\n",
    "    def generate(self):\n",
    "        self.set = [self.iterate(i) for i in self._complexplane]\n",
    "        return self.set"
   ]
  },
  {
   "cell_type": "code",
   "execution_count": 2,
   "metadata": {
    "collapsed": false
   },
   "outputs": [],
   "source": [
    "object1 = JuliaSet(1+1j,)"
   ]
  },
  {
   "cell_type": "code",
   "execution_count": 3,
   "metadata": {
    "collapsed": false
   },
   "outputs": [
    {
     "data": {
      "text/plain": [
       "(1-1j)"
      ]
     },
     "execution_count": 3,
     "metadata": {},
     "output_type": "execute_result"
    }
   ],
   "source": [
    "object1.juliamap(1-1j)"
   ]
  },
  {
   "cell_type": "code",
   "execution_count": 4,
   "metadata": {
    "collapsed": false
   },
   "outputs": [
    {
     "data": {
      "text/plain": [
       "1"
      ]
     },
     "execution_count": 4,
     "metadata": {},
     "output_type": "execute_result"
    }
   ],
   "source": [
    "object1.iterate(1+1j)"
   ]
  },
  {
   "cell_type": "code",
   "execution_count": 5,
   "metadata": {
    "collapsed": false
   },
   "outputs": [
    {
     "data": {
      "text/plain": [
       "[]"
      ]
     },
     "execution_count": 5,
     "metadata": {},
     "output_type": "execute_result"
    }
   ],
   "source": [
    "object1.generate()"
   ]
  },
  {
   "cell_type": "markdown",
   "metadata": {},
   "source": [
    "##### I believe the simplest way to check whether the code is producing the correct output is to solve simple examples by hand and making sure the code produces a matching answer.\n",
    "\n",
    "##### Another method may be to feed as input the same example into two codes that are believed to be working properly and making sure both answers correspond.\n"
   ]
  },
  {
   "cell_type": "markdown",
   "metadata": {},
   "source": [
    "##### Based on the algorithm with which we are working, simple output can be achieved through easy to understand parameters such as the examples above:\n",
    "\n",
    "#####              -\tThe complex number 1 ± 1*i (or 1 ± 1*j in our case) \n"
   ]
  },
  {
   "cell_type": "markdown",
   "metadata": {},
   "source": [
    "##### As mentioned before, we can check these test cases by running them through the code and solving them by hand and making sure the results match"
   ]
  }
 ],
 "metadata": {
  "kernelspec": {
   "display_name": "Python 2",
   "language": "python",
   "name": "python2"
  },
  "language_info": {
   "codemirror_mode": {
    "name": "ipython",
    "version": 2
   },
   "file_extension": ".py",
   "mimetype": "text/x-python",
   "name": "python",
   "nbconvert_exporter": "python",
   "pygments_lexer": "ipython2",
   "version": "2.7.9"
  },
  "name": "juliaset.ipynb"
 },
 "nbformat": 4,
 "nbformat_minor": 0
}
